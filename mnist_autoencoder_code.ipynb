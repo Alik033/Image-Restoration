{
  "nbformat": 4,
  "nbformat_minor": 0,
  "metadata": {
    "colab": {
      "name": "mnist_autoencoder_code.ipynb",
      "provenance": [],
      "collapsed_sections": []
    },
    "kernelspec": {
      "name": "python3",
      "display_name": "Python 3"
    },
    "language_info": {
      "name": "python"
    }
  },
  "cells": [
    {
      "cell_type": "markdown",
      "metadata": {
        "id": "dCFpmerk6ziu"
      },
      "source": [
        "# **Convolutional Encoder-Decoder Network for Image Restoration (MNIST Dataset)**\n",
        "This mini-project aims to see how the convolutional autoencoder performs the noise removal on the noisy image. We have used the MNIST dataset with Gaussian noise.\n",
        "\n"
      ]
    },
    {
      "cell_type": "markdown",
      "metadata": {
        "id": "bZ0toJ9xlUEd"
      },
      "source": [
        "## **Import Libaries**"
      ]
    },
    {
      "cell_type": "code",
      "metadata": {
        "id": "R--_8DFJ22_c"
      },
      "source": [
        "#Keras is a free open source Python library for developing and evaluating deep learning models. \n",
        "import keras\n",
        "# Keras module provides the MNIST dataset\n",
        "from keras.datasets import mnist\n",
        "from keras import layers\n",
        "from keras.layers import Reshape\n",
        "from keras.callbacks import TensorBoard\n",
        "from keras import callbacks\n",
        "# Numpy library is used for working with arrays\n",
        "import numpy as np\n",
        "# Math library is used foe mathematical task\n",
        "import math\n",
        "# Matplotlib is used for data visualization\n",
        "import matplotlib.pyplot as plt\n",
        "# Skimage is used for image processing task\n",
        "from skimage.measure import compare_ssim as ssim"
      ],
      "execution_count": null,
      "outputs": []
    },
    {
      "cell_type": "markdown",
      "metadata": {
        "id": "jF-3MGiNpMWJ"
      },
      "source": [
        "## **Data Load and Pre-processing**\n"
      ]
    },
    {
      "cell_type": "code",
      "metadata": {
        "colab": {
          "base_uri": "https://localhost:8080/"
        },
        "id": "_FBDUErVmGG5",
        "outputId": "9964ecc6-cb1d-416b-f33c-5fe100515f96"
      },
      "source": [
        "#loading the MNIST dataset\n",
        "(train, _), (test, _) = mnist.load_data()\n",
        "max = 255.\n",
        "train = train.astype('float32') / max\n",
        "test = test.astype('float32') / max\n",
        "#image reshape\n",
        "x = len(train)\n",
        "y = len(test)\n",
        "train = np.reshape(train, (x, 28, 28, 1))\n",
        "test = np.reshape(test, (y, 28, 28, 1))\n",
        "\n",
        "# 0 is the mean of the normal distribution we are choosing from\n",
        "# 1 is the standard deviation of the normal distribution\n",
        "# size of train and test data is the number of elements we get in array noise\n",
        "# gaussian noise into the images\n",
        "noise_factor = 0.1\n",
        "dummyVartrain = noise_factor * np.random.normal(loc=0.0, scale=1.0, size=train.shape) \n",
        "dummyVartest = noise_factor * np.random.normal(loc=0.0, scale=1.0, size=test.shape) \n",
        "train_noisy = train + dummyVartrain\n",
        "test_noisy = test + dummyVartest\n",
        "\n",
        "#Given an interval, values outside the interval are clipped to the interval edges. \n",
        "#For example, if an interval of [0, 1] is specified, values smaller than 0 become 0, and values larger than 1 become 1.\n",
        "train_noisy = np.clip(train_noisy, 0., 1.)\n",
        "test_noisy = np.clip(test_noisy, 0., 1.)\n",
        "print(train_noisy.shape)\n",
        "print(test_noisy.shape)"
      ],
      "execution_count": null,
      "outputs": [
        {
          "output_type": "stream",
          "text": [
            "(60000, 28, 28, 1)\n",
            "(10000, 28, 28, 1)\n"
          ],
          "name": "stdout"
        }
      ]
    },
    {
      "cell_type": "markdown",
      "metadata": {
        "id": "AnB_flaNyhBB"
      },
      "source": [
        "## **Noisy image Visualization**"
      ]
    },
    {
      "cell_type": "code",
      "metadata": {
        "colab": {
          "base_uri": "https://localhost:8080/",
          "height": 129
        },
        "id": "34D9qIDd3Kvr",
        "outputId": "e799f1c1-bdf5-4ba5-8135-ce6ccdb0f544"
      },
      "source": [
        "# visualizing the nosisy image\n",
        "n = 10\n",
        "plt.figure(figsize=(20, 2))\n",
        "for i in range(1, n + 1):\n",
        "    axis = plt.subplot(1, n, i)\n",
        "    plt.imshow(test_noisy[i].reshape(28, 28))\n",
        "    plt.gray()\n",
        "    axis.get_xaxis().set_visible(False)\n",
        "    axis.get_yaxis().set_visible(False)\n",
        "plt.show()"
      ],
      "execution_count": null,
      "outputs": [
        {
          "output_type": "display_data",
          "data": {
            "image/png": "[encoded data removed]",
            "text/plain": [
              "<Figure size 1440x144 with 10 Axes>"
            ]
          },
          "metadata": {
            "tags": [],
            "needs_background": "light"
          }
        }
      ]
    },
    {
      "cell_type": "markdown",
      "metadata": {
        "id": "C6PV90tMrstQ"
      },
      "source": [
        "## **Model Building**"
      ]
    },
    {
      "cell_type": "code",
      "metadata": {
        "id": "NhTJTmQ_3kye",
        "colab": {
          "base_uri": "https://localhost:8080/"
        },
        "outputId": "31148b3e-7fe3-45b5-d6f6-7b869ab225ba"
      },
      "source": [
        "#buliding architecture for autoencoder\n",
        "input_img = keras.Input(shape=(28, 28, 1))\n",
        "#enoder\n",
        "#convolutional layer with 32 3x3 filter\n",
        "#activation function Relu and Same padding\n",
        "x = layers.Conv2D(32, (3, 3), activation='relu', padding='same')(input_img)\n",
        "#Downsample the input\n",
        "x = layers.MaxPooling2D((2, 2), padding='same')(x)\n",
        "#dropout layer to reduce the overfitting\n",
        "x = layers.Dropout(0.1)(x)\n",
        "x = layers.Conv2D(32, (3, 3), activation='relu', padding='same')(x)\n",
        "encoded = layers.MaxPooling2D((2, 2), padding='same')(x)\n",
        "\n",
        "#decoder\n",
        "x = layers.Conv2D(32, (3, 3), activation='relu', padding='same')(encoded)\n",
        "#Upsample the dimension of the input\n",
        "x = layers.UpSampling2D((2, 2))(x)\n",
        "x = layers.Conv2D(32, (3, 3), activation='relu', padding='same')(x)\n",
        "#dropout layer to reduce the overfitting\n",
        "x = layers.Dropout(0.1)(x)\n",
        "x = layers.UpSampling2D((2, 2))(x)\n",
        "decoded = layers.Conv2D(1, (3, 3), activation='sigmoid', padding='same')(x)\n",
        "\n",
        "#autoencoder model\n",
        "autoencoder = keras.Model(input_img, decoded)\n",
        "#shows the model summary\n",
        "autoencoder.summary()\n",
        "#setting the learning rate 0.001\n",
        "opt = keras.optimizers.Adam(learning_rate=0.001)\n",
        "#using binary cross entropy loss funcion and adam optimizer\n",
        "autoencoder.compile(optimizer= opt, loss='binary_crossentropy', metrics=[\"accuracy\"])"
      ],
      "execution_count": null,
      "outputs": [
        {
          "output_type": "stream",
          "text": [
            "Model: \"model_2\"\n",
            "_________________________________________________________________\n",
            "Layer (type)                 Output Shape              Param #   \n",
            "=================================================================\n",
            "input_3 (InputLayer)         [(None, 28, 28, 1)]       0         \n",
            "_________________________________________________________________\n",
            "conv2d_10 (Conv2D)           (None, 28, 28, 32)        320       \n",
            "_________________________________________________________________\n",
            "max_pooling2d_4 (MaxPooling2 (None, 14, 14, 32)        0         \n",
            "_________________________________________________________________\n",
            "dropout_4 (Dropout)          (None, 14, 14, 32)        0         \n",
            "_________________________________________________________________\n",
            "conv2d_11 (Conv2D)           (None, 14, 14, 32)        9248      \n",
            "_________________________________________________________________\n",
            "max_pooling2d_5 (MaxPooling2 (None, 7, 7, 32)          0         \n",
            "_________________________________________________________________\n",
            "conv2d_12 (Conv2D)           (None, 7, 7, 32)          9248      \n",
            "_________________________________________________________________\n",
            "up_sampling2d_4 (UpSampling2 (None, 14, 14, 32)        0         \n",
            "_________________________________________________________________\n",
            "conv2d_13 (Conv2D)           (None, 14, 14, 32)        9248      \n",
            "_________________________________________________________________\n",
            "dropout_5 (Dropout)          (None, 14, 14, 32)        0         \n",
            "_________________________________________________________________\n",
            "up_sampling2d_5 (UpSampling2 (None, 28, 28, 32)        0         \n",
            "_________________________________________________________________\n",
            "conv2d_14 (Conv2D)           (None, 28, 28, 1)         289       \n",
            "=================================================================\n",
            "Total params: 28,353\n",
            "Trainable params: 28,353\n",
            "Non-trainable params: 0\n",
            "_________________________________________________________________\n"
          ],
          "name": "stdout"
        }
      ]
    },
    {
      "cell_type": "markdown",
      "metadata": {
        "id": "82hvJ7-sryLW"
      },
      "source": [
        "## **Model Training**"
      ]
    },
    {
      "cell_type": "code",
      "metadata": {
        "colab": {
          "base_uri": "https://localhost:8080/"
        },
        "id": "aeyN7Pi738wd",
        "outputId": "c1fbd5a6-9ded-4729-e57b-77f5ca55dba6"
      },
      "source": [
        "#setting the early stopping criteria if the loss does not improve in countinous 6 iteration,\n",
        "#then the model stop traning\n",
        "callback = callbacks.EarlyStopping(monitor='loss', patience=6)\n",
        "#Fitting the model for training\n",
        "#setting epoch size 25 and batch size = 16, and randomly select data for each epoch, one epoch will see all the data \n",
        "h = autoencoder.fit(train_noisy, train,\n",
        "                epochs=25,\n",
        "                batch_size=16,\n",
        "                shuffle=True,\n",
        "                validation_data=(test_noisy, test),\n",
        "                callbacks=[TensorBoard(log_dir='/tmp/tb', histogram_freq=0, write_graph=False),callback])"
      ],
      "execution_count": null,
      "outputs": [
        {
          "output_type": "stream",
          "text": [
            "Epoch 1/25\n",
            "3750/3750 [==============================] - 130s 35ms/step - loss: 0.1196 - accuracy: 0.8119 - val_loss: 0.0802 - val_accuracy: 0.8138\n",
            "Epoch 2/25\n",
            "3750/3750 [==============================] - 129s 34ms/step - loss: 0.0824 - accuracy: 0.8148 - val_loss: 0.0783 - val_accuracy: 0.8140\n",
            "Epoch 3/25\n",
            "3750/3750 [==============================] - 132s 35ms/step - loss: 0.0807 - accuracy: 0.8148 - val_loss: 0.0780 - val_accuracy: 0.8140\n",
            "Epoch 4/25\n",
            "3750/3750 [==============================] - 133s 36ms/step - loss: 0.0800 - accuracy: 0.8147 - val_loss: 0.0773 - val_accuracy: 0.8142\n",
            "Epoch 5/25\n",
            "3750/3750 [==============================] - 134s 36ms/step - loss: 0.0795 - accuracy: 0.8153 - val_loss: 0.0770 - val_accuracy: 0.8141\n",
            "Epoch 6/25\n",
            "3750/3750 [==============================] - 136s 36ms/step - loss: 0.0793 - accuracy: 0.8149 - val_loss: 0.0768 - val_accuracy: 0.8142\n",
            "Epoch 7/25\n",
            "3750/3750 [==============================] - 134s 36ms/step - loss: 0.0791 - accuracy: 0.8151 - val_loss: 0.0769 - val_accuracy: 0.8142\n",
            "Epoch 8/25\n",
            "3750/3750 [==============================] - 133s 36ms/step - loss: 0.0791 - accuracy: 0.8150 - val_loss: 0.0767 - val_accuracy: 0.8141\n",
            "Epoch 9/25\n",
            "3750/3750 [==============================] - 134s 36ms/step - loss: 0.0789 - accuracy: 0.8154 - val_loss: 0.0766 - val_accuracy: 0.8142\n",
            "Epoch 10/25\n",
            "3750/3750 [==============================] - 138s 37ms/step - loss: 0.0788 - accuracy: 0.8152 - val_loss: 0.0771 - val_accuracy: 0.8142\n",
            "Epoch 11/25\n",
            "3750/3750 [==============================] - 137s 37ms/step - loss: 0.0789 - accuracy: 0.8145 - val_loss: 0.0764 - val_accuracy: 0.8142\n",
            "Epoch 12/25\n",
            "3750/3750 [==============================] - 136s 36ms/step - loss: 0.0787 - accuracy: 0.8149 - val_loss: 0.0764 - val_accuracy: 0.8142\n",
            "Epoch 13/25\n",
            "3750/3750 [==============================] - 137s 37ms/step - loss: 0.0786 - accuracy: 0.8149 - val_loss: 0.0766 - val_accuracy: 0.8142\n",
            "Epoch 14/25\n",
            "3750/3750 [==============================] - 137s 37ms/step - loss: 0.0786 - accuracy: 0.8152 - val_loss: 0.0764 - val_accuracy: 0.8142\n",
            "Epoch 15/25\n",
            "3750/3750 [==============================] - 136s 36ms/step - loss: 0.0786 - accuracy: 0.8149 - val_loss: 0.0763 - val_accuracy: 0.8142\n",
            "Epoch 16/25\n",
            "3750/3750 [==============================] - 136s 36ms/step - loss: 0.0785 - accuracy: 0.8151 - val_loss: 0.0763 - val_accuracy: 0.8142\n",
            "Epoch 17/25\n",
            "3750/3750 [==============================] - 138s 37ms/step - loss: 0.0785 - accuracy: 0.8151 - val_loss: 0.0764 - val_accuracy: 0.8142\n",
            "Epoch 18/25\n",
            "3750/3750 [==============================] - 135s 36ms/step - loss: 0.0784 - accuracy: 0.8152 - val_loss: 0.0765 - val_accuracy: 0.8142\n",
            "Epoch 19/25\n",
            "3750/3750 [==============================] - 137s 36ms/step - loss: 0.0785 - accuracy: 0.8149 - val_loss: 0.0762 - val_accuracy: 0.8142\n",
            "Epoch 20/25\n",
            "3750/3750 [==============================] - 136s 36ms/step - loss: 0.0783 - accuracy: 0.8151 - val_loss: 0.0763 - val_accuracy: 0.8142\n",
            "Epoch 21/25\n",
            "3750/3750 [==============================] - 137s 37ms/step - loss: 0.0784 - accuracy: 0.8148 - val_loss: 0.0762 - val_accuracy: 0.8142\n",
            "Epoch 22/25\n",
            "3750/3750 [==============================] - 138s 37ms/step - loss: 0.0784 - accuracy: 0.8151 - val_loss: 0.0765 - val_accuracy: 0.8141\n",
            "Epoch 23/25\n",
            "3750/3750 [==============================] - 134s 36ms/step - loss: 0.0785 - accuracy: 0.8146 - val_loss: 0.0762 - val_accuracy: 0.8142\n",
            "Epoch 24/25\n",
            "3750/3750 [==============================] - 135s 36ms/step - loss: 0.0784 - accuracy: 0.8150 - val_loss: 0.0762 - val_accuracy: 0.8142\n",
            "Epoch 25/25\n",
            "3750/3750 [==============================] - 135s 36ms/step - loss: 0.0783 - accuracy: 0.8155 - val_loss: 0.0764 - val_accuracy: 0.8141\n"
          ],
          "name": "stdout"
        }
      ]
    },
    {
      "cell_type": "markdown",
      "metadata": {
        "id": "SOQ0GLBesd43"
      },
      "source": [
        "## **Visualizing the Loss graph**"
      ]
    },
    {
      "cell_type": "code",
      "metadata": {
        "colab": {
          "base_uri": "https://localhost:8080/",
          "height": 295
        },
        "id": "GFOpx1XjLugh",
        "outputId": "8018392e-64af-49eb-b52b-290ea84cfd30"
      },
      "source": [
        "#Visualizing the grap of training loss and validation loss\n",
        "plt.plot(h.history['loss'])\n",
        "plt.plot(h.history['val_loss'])\n",
        "#Giving the titel of the graph\n",
        "plt.title('Model Loss')\n",
        "#putting the label of the graph\n",
        "plt.ylabel('Loss')\n",
        "plt.xlabel('Epoch')\n",
        "plt.legend(['Train', 'Validation'], loc='upper left')\n",
        "plt.show()"
      ],
      "execution_count": null,
      "outputs": [
        {
          "output_type": "display_data",
          "data": {
            "image/png": "[encoded data removed]",
            "text/plain": [
              "<Figure size 432x288 with 1 Axes>"
            ]
          },
          "metadata": {
            "tags": [],
            "needs_background": "light"
          }
        }
      ]
    },
    {
      "cell_type": "markdown",
      "metadata": {
        "id": "TgRUzEOesjNN"
      },
      "source": [
        "## **Visualizing the accuracy graph**"
      ]
    },
    {
      "cell_type": "code",
      "metadata": {
        "colab": {
          "base_uri": "https://localhost:8080/",
          "height": 295
        },
        "id": "oPEU9rhkbubW",
        "outputId": "619acf62-139d-4ab0-883a-fee126b110c0"
      },
      "source": [
        "#Visualizing the grap of training accuracy and validation accuracy\n",
        "plt.plot(h.history['accuracy'])\n",
        "plt.plot(h.history['val_accuracy'])\n",
        "#Giving the titel of the graph\n",
        "plt.title('Model Accuracy')\n",
        "#putting the label of the graph\n",
        "plt.ylabel('Accuracy')\n",
        "plt.xlabel('Epoch')\n",
        "plt.legend(['Train', 'Validation'], loc='upper left')\n",
        "plt.show()"
      ],
      "execution_count": null,
      "outputs": [
        {
          "output_type": "display_data",
          "data": {
            "image/png": "[encoded data removed]",
            "text/plain": [
              "<Figure size 432x288 with 1 Axes>"
            ]
          },
          "metadata": {
            "tags": [],
            "needs_background": "light"
          }
        }
      ]
    },
    {
      "cell_type": "markdown",
      "metadata": {
        "id": "vFmgK559spK7"
      },
      "source": [
        "## **Generate Prediction on test data**"
      ]
    },
    {
      "cell_type": "code",
      "metadata": {
        "id": "8ySLiyd7Qyc5"
      },
      "source": [
        "#predict the result on the unseen noisy data\n",
        "decodedImg = autoencoder.predict(test_noisy)"
      ],
      "execution_count": null,
      "outputs": []
    },
    {
      "cell_type": "markdown",
      "metadata": {
        "id": "4s-TGd16tECT"
      },
      "source": [
        "## **Visualizing the Nosiy image and the generated image**\n",
        "\n"
      ]
    },
    {
      "cell_type": "code",
      "metadata": {
        "colab": {
          "base_uri": "https://localhost:8080/",
          "height": 248
        },
        "id": "zVmOizSfTYrj",
        "outputId": "9713021c-41eb-4e4f-c664-45438e60406f"
      },
      "source": [
        "n = 10  # How many image we will display\n",
        "plt.figure(figsize=(20, 4))\n",
        "for i in range(n):\n",
        "    # Display Noisy image\n",
        "    ax = plt.subplot(2, n, i + 1)\n",
        "    plt.imshow(test_noisy[i].reshape(28, 28))\n",
        "    plt.gray()\n",
        "    ax.get_xaxis().set_visible(False)\n",
        "    ax.get_yaxis().set_visible(False)\n",
        "\n",
        "    # Display reconstruction\n",
        "    ax = plt.subplot(2, n, i + 1 + n)\n",
        "    plt.imshow(decodedImg[i].reshape(28, 28))\n",
        "    plt.gray()\n",
        "    ax.get_xaxis().set_visible(False)\n",
        "    ax.get_yaxis().set_visible(False)\n",
        "plt.show()"
      ],
      "execution_count": null,
      "outputs": [
        {
          "output_type": "display_data",
          "data": {
            "image/png": "[encoded data removed]",
            "text/plain": [
              "<Figure size 1440x288 with 20 Axes>"
            ]
          },
          "metadata": {
            "tags": [],
            "needs_background": "light"
          }
        }
      ]
    },
    {
      "cell_type": "markdown",
      "metadata": {
        "id": "OoribX4ItZaG"
      },
      "source": [
        "## **Visualizing the original image and generated image**"
      ]
    },
    {
      "cell_type": "code",
      "metadata": {
        "colab": {
          "base_uri": "https://localhost:8080/",
          "height": 248
        },
        "id": "cuwMxhR-hgbS",
        "outputId": "95886a84-f559-4f31-f172-5cd7e8abb241"
      },
      "source": [
        "n = 10  # How many image we will display\n",
        "plt.figure(figsize=(20, 4))\n",
        "for i in range(n):\n",
        "    # Display original image\n",
        "    ax = plt.subplot(2, n, i + 1)\n",
        "    plt.imshow(x_test[i].reshape(28, 28))\n",
        "    plt.gray()\n",
        "    ax.get_xaxis().set_visible(False)\n",
        "    ax.get_yaxis().set_visible(False)\n",
        "\n",
        "    # Display reconstruction\n",
        "    ax = plt.subplot(2, n, i + 1 + n)\n",
        "    plt.imshow(decodedImg[i].reshape(28, 28))\n",
        "    plt.gray()\n",
        "    ax.get_xaxis().set_visible(False)\n",
        "    ax.get_yaxis().set_visible(False)\n",
        "plt.show()"
      ],
      "execution_count": null,
      "outputs": [
        {
          "output_type": "display_data",
          "data": {
            "image/png": "[encoded data removed]",
            "text/plain": [
              "<Figure size 1440x288 with 20 Axes>"
            ]
          },
          "metadata": {
            "tags": [],
            "needs_background": "light"
          }
        }
      ]
    },
    {
      "cell_type": "markdown",
      "metadata": {
        "id": "_PvOfk4ftnDM"
      },
      "source": [
        "## **Quality and Similarity Measurement**\n",
        "We are using PSNR, MSE and SSIM."
      ]
    },
    {
      "cell_type": "markdown",
      "metadata": {
        "id": "RpxsIlAYt59p"
      },
      "source": [
        "### **Define PSNR function**"
      ]
    },
    {
      "cell_type": "code",
      "metadata": {
        "id": "hTzjbuwve_W_"
      },
      "source": [
        "#take two images as a input and produce scalar value. The unit is dB.  \n",
        "def peak_signal_noise_ratio(img1, img2): \n",
        "    # assume RGB image\n",
        "    data1 = img1.astype(float)\n",
        "    data2 = img2.astype(float)\n",
        "\n",
        "    #calculating the difference\n",
        "    diff = data2 - data1\n",
        "\n",
        "    #make the array dimension into 1\n",
        "    diff = diff.flatten('C')\n",
        "\n",
        "    #calculating the root mean square\n",
        "    rmse = math.sqrt(np.mean(diff ** 2.))\n",
        "    \n",
        "    #psnr formula\n",
        "    psnr = 20 * math.log10(255. / rmse)\n",
        "\n",
        "    #return the psnr value\n",
        "    return psnr"
      ],
      "execution_count": null,
      "outputs": []
    },
    {
      "cell_type": "markdown",
      "metadata": {
        "id": "5d76-QTsvJ4Q"
      },
      "source": [
        "### **Define MSE function**"
      ]
    },
    {
      "cell_type": "code",
      "metadata": {
        "id": "tLPuLr0MgZDA"
      },
      "source": [
        "# define function for mean squared error (MSE)\n",
        "def mean_square_error(img1, img2):\n",
        "    # the MSE between the two images is the sum of the squared difference between the two images\n",
        "    mse = np.sum((img1.astype('float') - img2.astype('float')) ** 2)\n",
        "    mse /= float(img1.shape[0] * img1.shape[1])\n",
        "\n",
        "    #return the MSE error\n",
        "    return mse"
      ],
      "execution_count": null,
      "outputs": []
    },
    {
      "cell_type": "markdown",
      "metadata": {
        "id": "LElRliXlvRGd"
      },
      "source": [
        "### **Comparison function of two images**"
      ]
    },
    {
      "cell_type": "code",
      "metadata": {
        "id": "mBTIXEnsgdFm"
      },
      "source": [
        "#define the function for comparison\n",
        "def compareImages(img1, img2):\n",
        "    value = []\n",
        "    #PSNR function call\n",
        "    value.append(peak_signal_noise_ratio(img1, img2))\n",
        "    #MSE function call\n",
        "    value.append(mean_square_error(img1, img2))\n",
        "    #SSIM function call using skimage library\n",
        "    value.append(ssim(img1, img2, multichannel =True))\n",
        "    #return the value of PSNR, MSE, and SSIM\n",
        "    return value"
      ],
      "execution_count": null,
      "outputs": []
    },
    {
      "cell_type": "markdown",
      "metadata": {
        "id": "f_UPdsgxwk39"
      },
      "source": [
        "### **Comparing the original and noisy image**"
      ]
    },
    {
      "cell_type": "code",
      "metadata": {
        "colab": {
          "base_uri": "https://localhost:8080/"
        },
        "id": "5IxEk4B5g2tO",
        "outputId": "7f79992c-8dcc-4ff1-a695-d2bcd6fe686b"
      },
      "source": [
        "#orginal vs Noisy\n",
        "for i in range(10):\n",
        "  #original image\n",
        "  orginal = test[i].reshape(28, 28)\n",
        "  #noisy image\n",
        "  noisy = test_noisy[i].reshape(28, 28)\n",
        "  #calling the compare function for measurement\n",
        "  scores = compareImages(orginal, noisy)\n",
        "  #printing the scores\n",
        "  print('PSNR: ',scores[0],'MSE: ', scores[1],'SSIM: ', scores[2])"
      ],
      "execution_count": null,
      "outputs": [
        {
          "output_type": "stream",
          "text": [
            "PSNR:  61.457326218664356 MSE:  0.046488736091674226 SSIM:  0.27480824124244474\n",
            "PSNR:  61.44560305074465 MSE:  0.046614395411236124 SSIM:  0.3919100164247641\n",
            "PSNR:  61.137820604651054 MSE:  0.050037810770814 SSIM:  0.13332223617820554\n",
            "PSNR:  61.20378874053663 MSE:  0.049283493642271255 SSIM:  0.3668381972716083\n",
            "PSNR:  61.12870551651048 MSE:  0.05014294174668719 SSIM:  0.2405660434372991\n",
            "PSNR:  61.59923269734186 MSE:  0.04499425767573386 SSIM:  0.14419931552481025\n",
            "PSNR:  61.400050637069 MSE:  0.047105899063978794 SSIM:  0.29674882283612686\n",
            "PSNR:  61.43149789918381 MSE:  0.04676603721790447 SSIM:  0.25265984766928484\n",
            "PSNR:  61.49055193060975 MSE:  0.04613443091576597 SSIM:  0.41307671207102603\n",
            "PSNR:  61.96652868292005 MSE:  0.04134542805266067 SSIM:  0.37227610216795004\n"
          ],
          "name": "stdout"
        },
        {
          "output_type": "stream",
          "text": [
            "/usr/local/lib/python3.7/dist-packages/ipykernel_launcher.py:9: UserWarning: DEPRECATED: skimage.measure.compare_ssim has been moved to skimage.metrics.structural_similarity. It will be removed from skimage.measure in version 0.18.\n",
            "  if __name__ == '__main__':\n",
            "/usr/local/lib/python3.7/dist-packages/skimage/metrics/_structural_similarity.py:108: UserWarning: Inputs have mismatched dtype.  Setting data_range based on im1.dtype.\n",
            "  im2[..., ch], **args)\n"
          ],
          "name": "stderr"
        }
      ]
    },
    {
      "cell_type": "markdown",
      "metadata": {
        "id": "p-WHjdQZw1qO"
      },
      "source": [
        "### **Comparing the original and generated image**"
      ]
    },
    {
      "cell_type": "code",
      "metadata": {
        "colab": {
          "base_uri": "https://localhost:8080/"
        },
        "id": "TZk8W9oyg7Ss",
        "outputId": "e46ae4ba-4783-48f5-d355-8976ce9875a3"
      },
      "source": [
        "#orginal vs generated\n",
        "for i in range(10):\n",
        "  #orginal image\n",
        "  orginal = test[i].reshape(28, 28)\n",
        "  #restored image\n",
        "  restored = decodedImg[i].reshape(28, 28)\n",
        "  #calling copmare function for measurement\n",
        "  scores = compareImages(orginal, restored)\n",
        "  #printing the scores\n",
        "  print('PSNR: ',scores[0],'MSE: ', scores[1],'SSIM: ', scores[2])"
      ],
      "execution_count": null,
      "outputs": [
        {
          "output_type": "stream",
          "text": [
            "PSNR:  72.65258506727331 MSE:  0.0035303832517771384 SSIM:  0.9410810205615824\n",
            "PSNR:  72.15022791842911 MSE:  0.003963305673939413 SSIM:  0.9517950185478394\n",
            "PSNR:  75.4903211478988 MSE:  0.001836742377011521 SSIM:  0.9748645540614712\n",
            "PSNR:  70.305235539327 MSE:  0.006061174772066247 SSIM:  0.9188166729035753\n",
            "PSNR:  72.14989534592499 MSE:  0.003963609186191296 SSIM:  0.9074521181370258\n",
            "PSNR:  71.67136975613785 MSE:  0.004425306801834194 SSIM:  0.9014025058257573\n",
            "PSNR:  71.03777468042543 MSE:  0.005120388256055666 SSIM:  0.9342526372799708\n",
            "PSNR:  71.42291160288876 MSE:  0.00468585883032718 SSIM:  0.9526507527306952\n",
            "PSNR:  71.7094776667891 MSE:  0.004386646057611686 SSIM:  0.9315806239608391\n",
            "PSNR:  70.1232022712827 MSE:  0.006320626588616724 SSIM:  0.9448217030602842\n"
          ],
          "name": "stdout"
        },
        {
          "output_type": "stream",
          "text": [
            "/usr/local/lib/python3.7/dist-packages/ipykernel_launcher.py:9: UserWarning: DEPRECATED: skimage.measure.compare_ssim has been moved to skimage.metrics.structural_similarity. It will be removed from skimage.measure in version 0.18.\n",
            "  if __name__ == '__main__':\n"
          ],
          "name": "stderr"
        }
      ]
    },
    {
      "cell_type": "markdown",
      "metadata": {
        "id": "2za1IPDVw5dA"
      },
      "source": [
        "### **Difference between noisy and generate image**"
      ]
    },
    {
      "cell_type": "code",
      "metadata": {
        "id": "Kq8a0xeemD6q",
        "colab": {
          "base_uri": "https://localhost:8080/"
        },
        "outputId": "82a7b2a4-5b97-4393-edd8-0be24328f7fd"
      },
      "source": [
        "#Difference Between Noisy and Generated Image\n",
        "for i in range(10):\n",
        "  #original image\n",
        "  original = test[i].reshape(28, 28)\n",
        "  #noisy image\n",
        "  noisy = test_noisy[i].reshape(28,28)\n",
        "  #restored image\n",
        "  restored = decodedImg[i].reshape(28, 28)\n",
        "  #calling compare function for measurement\n",
        "  scores = compareImages(original, restored)\n",
        "  score = compareImages(original, noisy)\n",
        "  #printing the scores\n",
        "  print('Diff. PSNR: ',scores[0]-score[0],'Diff. MSE: ', score[1]-scores[1],'Diff. SSIM: ', scores[2]-score[2])"
      ],
      "execution_count": null,
      "outputs": [
        {
          "output_type": "stream",
          "text": [
            "Diff. PSNR:  11.195258848608951 Diff. MSE:  0.04295835283989709 Diff. SSIM:  0.6662727793191376\n",
            "Diff. PSNR:  10.704624867684458 Diff. MSE:  0.04265108973729671 Diff. SSIM:  0.5598850021230753\n",
            "Diff. PSNR:  14.352500543247743 Diff. MSE:  0.048201068393802476 Diff. SSIM:  0.8415423178832657\n",
            "Diff. PSNR:  9.10144679879037 Diff. MSE:  0.04322231887020501 Diff. SSIM:  0.551978475631967\n",
            "Diff. PSNR:  11.02118982941451 Diff. MSE:  0.04617933256049589 Diff. SSIM:  0.6668860746997267\n",
            "Diff. PSNR:  10.072137058795988 Diff. MSE:  0.04056895087389967 Diff. SSIM:  0.7572031903009471\n",
            "Diff. PSNR:  9.637724043356428 Diff. MSE:  0.04198551080792313 Diff. SSIM:  0.6375038144438439\n",
            "Diff. PSNR:  9.99141370370495 Diff. MSE:  0.042080178387577286 Diff. SSIM:  0.6999909050614104\n",
            "Diff. PSNR:  10.21892573617935 Diff. MSE:  0.04174778485815428 Diff. SSIM:  0.518503911889813\n",
            "Diff. PSNR:  8.156673588362644 Diff. MSE:  0.03502480146404395 Diff. SSIM:  0.5725456008923342\n"
          ],
          "name": "stdout"
        },
        {
          "output_type": "stream",
          "text": [
            "/usr/local/lib/python3.7/dist-packages/ipykernel_launcher.py:9: UserWarning: DEPRECATED: skimage.measure.compare_ssim has been moved to skimage.metrics.structural_similarity. It will be removed from skimage.measure in version 0.18.\n",
            "  if __name__ == '__main__':\n",
            "/usr/local/lib/python3.7/dist-packages/skimage/metrics/_structural_similarity.py:108: UserWarning: Inputs have mismatched dtype.  Setting data_range based on im1.dtype.\n",
            "  im2[..., ch], **args)\n"
          ],
          "name": "stderr"
        }
      ]
    }
  ]
}